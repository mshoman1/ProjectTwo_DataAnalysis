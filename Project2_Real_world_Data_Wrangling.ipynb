{
 "cells": [
  {
   "cell_type": "markdown",
   "id": "e794722c-8aa5-4bcd-b32d-f23390a1e9f5",
   "metadata": {},
   "source": [
    "# Real-world Data Wrangling"
   ]
  },
  {
   "cell_type": "markdown",
   "id": "4e306959-3470-434c-b162-2c961aa9a93a",
   "metadata": {},
   "source": [
    "### Introduction\r\n",
    "\r\n",
    "In this project, I will work with two datasets related to Movies and TV Shows from Netflix and Amazon Prime. The purpose of this project is to analyze and compare the content available on these two platforms and uncover insights about trends, genres, and other key characteristics.\r\n",
    "\r\n",
    "The datasets used in this project are:\r\n",
    "1. **Netflix Dataset**: This dataset was retrieved programmatically from Kaggle using the Kaggle API.\r\n",
    "2. **Amazon Prime Dataset**: This dataset was downloaded manually from a trusted source.\r\n",
    "\r\n",
    "The project will focus on answering the following research question:\r\n",
    "- *What are the differences in content between Netflix and Amazon Prime in terms of genres, release years, and ratings?*\r\n",
    "\r\n",
    "To complete this project, the following steps will be performed:\r\n",
    "1. **Data Gathering**: Retrieve and load the datasets into the environment.\r\n",
    "2. **Data Assessment**: Inspect the data for quality and structure issues.\r\n",
    "3. **Data Cleaning**: Address missing values, duplicates, and other inconsistencies.\r\n",
    "4. **Data Storage**: Store the cleaned data in a database for easy access and analysis.\r\n",
    "5. **Data Analysis**: Combine the datasets and perform exploratory data analysis (EDA) to extract insights.\r\n",
    "6. **Visualization and Insights**: Use visualizations to clearly present the findings.\r\n",
    "7. **Conclusion**: Summarize the key insights and observations.\r\n",
    "\r\n",
    "This project will utilize Python libraries such as:\r\n",
    "- `pandas` for data manipulation,\r\n",
    "- `numpy` for numerical operations,\r\n",
    "- `matplotlib` and `seaborn` for visualizations, and\r\n",
    "- `sqlite3` for database storage.\r\n",
    "\r\n",
    "Through this project, I aim to apply data analysis techniques to real-world datasets and derive meaningful insights about popular streaming platforms.\r\n"
   ]
  },
  {
   "cell_type": "markdown",
   "id": "a044142c-3147-4cf4-862e-fc1f1609c1fb",
   "metadata": {},
   "source": [
    "Before starting the data analysis, I need to install the necessary packages and Library for this project."
   ]
  },
  {
   "cell_type": "markdown",
   "id": "9781e8ab-d929-4075-8c0f-75dc4960b7fe",
   "metadata": {},
   "source": [
    "## Importing and installing required libraries and packages."
   ]
  },
  {
   "cell_type": "code",
   "execution_count": 976,
   "id": "5df7c6c4-52d0-4ca1-88be-655162d3baef",
   "metadata": {},
   "outputs": [
    {
     "name": "stdout",
     "output_type": "stream",
     "text": [
      "Requirement already satisfied: kaggle==1.6.12 in c:\\users\\mahmoud\\anaconda3\\lib\\site-packages (1.6.12)\n",
      "Requirement already satisfied: six>=1.10 in c:\\users\\mahmoud\\anaconda3\\lib\\site-packages (from kaggle==1.6.12) (1.16.0)\n",
      "Requirement already satisfied: certifi>=2023.7.22 in c:\\users\\mahmoud\\anaconda3\\lib\\site-packages (from kaggle==1.6.12) (2024.8.30)\n",
      "Requirement already satisfied: python-dateutil in c:\\users\\mahmoud\\anaconda3\\lib\\site-packages (from kaggle==1.6.12) (2.9.0.post0)\n",
      "Requirement already satisfied: requests in c:\\users\\mahmoud\\anaconda3\\lib\\site-packages (from kaggle==1.6.12) (2.32.2)\n",
      "Requirement already satisfied: tqdm in c:\\users\\mahmoud\\anaconda3\\lib\\site-packages (from kaggle==1.6.12) (4.66.4)\n",
      "Requirement already satisfied: python-slugify in c:\\users\\mahmoud\\anaconda3\\lib\\site-packages (from kaggle==1.6.12) (5.0.2)\n",
      "Requirement already satisfied: urllib3 in c:\\users\\mahmoud\\anaconda3\\lib\\site-packages (from kaggle==1.6.12) (1.26.20)\n",
      "Requirement already satisfied: bleach in c:\\users\\mahmoud\\anaconda3\\lib\\site-packages (from kaggle==1.6.12) (4.1.0)\n",
      "Requirement already satisfied: packaging in c:\\users\\mahmoud\\anaconda3\\lib\\site-packages (from bleach->kaggle==1.6.12) (23.2)\n",
      "Requirement already satisfied: webencodings in c:\\users\\mahmoud\\anaconda3\\lib\\site-packages (from bleach->kaggle==1.6.12) (0.5.1)\n",
      "Requirement already satisfied: text-unidecode>=1.3 in c:\\users\\mahmoud\\anaconda3\\lib\\site-packages (from python-slugify->kaggle==1.6.12) (1.3)\n",
      "Requirement already satisfied: charset-normalizer<4,>=2 in c:\\users\\mahmoud\\anaconda3\\lib\\site-packages (from requests->kaggle==1.6.12) (2.0.4)\n",
      "Requirement already satisfied: idna<4,>=2.5 in c:\\users\\mahmoud\\anaconda3\\lib\\site-packages (from requests->kaggle==1.6.12) (3.7)\n",
      "Requirement already satisfied: colorama in c:\\users\\mahmoud\\anaconda3\\lib\\site-packages (from tqdm->kaggle==1.6.12) (0.4.6)\n"
     ]
    }
   ],
   "source": [
    "!python -m pip install kaggle==1.6.12"
   ]
  },
  {
   "cell_type": "code",
   "execution_count": 977,
   "id": "a969505e-4a92-4dd6-94ee-575c48d3d20d",
   "metadata": {},
   "outputs": [],
   "source": [
    "import matplotlib\n",
    "import pandas as pd\n",
    "import numpy as np\n",
    "import kaggle  # For accessing datasets via Kaggle API\n",
    "import os\n",
    "import json\n",
    "import matplotlib.pyplot as plt\n",
    "import seaborn as sns\n",
    "%matplotlib inline"
   ]
  },
  {
   "cell_type": "markdown",
   "id": "e5e90836-d294-4da6-aa26-ac8ad1057f78",
   "metadata": {},
   "source": [
    "## 1. Gather Data\n",
    "\n",
    "In this section, I will collect data using two distinct methods and merge the datasets together for further analysis. The data will be related to movies and TV shows from Netflix and Amazon Prime.\n",
    "\n",
    "\n",
    "### 1.1 Problem Statement\n",
    "\n",
    "In this project, I will evaluate, clean, merge, and save two datasets about movies and TV Shows from Netflix and Amazon Prime. The goal is to explore the data and answer interesting questions, such as comparing the variety and type of content offered on these two platforms.\n",
    "\n",
    "\n",
    "### 1.2 Gather at Least Two Datasets Using Different Methods\n",
    "\n",
    "#### Methods for Gathering Data:\n",
    "1. **Manually Downloading Data**:  \n",
    "   The Amazon Prime dataset was downloaded manually from a trusted source.\n",
    "   \n",
    "2. **Using the Kaggle API**:  \n",
    "   The Netflix dataset was retrieved programmatically using the Kaggle API. This method ensures efficient and reproducible access to the dataset.\n",
    "\n",
    "#### Requirements for Each Dataset:\r\n",
    "\r\n",
    "- **Netflix Dataset**:\r\n",
    "  - **Source**: Kaggle\r\n",
    "  - **Key Variables**: Title, Genre, Release Year, Rating, Duration\r\n",
    "  - **Importance**: This dataset provides insight into the variety and trends in Netflix's content offerings. The variables help analyze the type and quality of content available.\r\n",
    "  - **Method**: Retrieved using the Kaggl\n",
    "e\n",
    " API.\r\n",
    "\r\n",
    "- **Amazon Prime Dataset**:\r\n",
    "  - **Source**: Downloaded manually from a trusted source.\r\n",
    "  - **Key Variables**: Title, Genre, Release Year, Rating, Duration\r\n",
    "  - **Importance**: This dataset allows us to analyze Amazon Prime's content offerings in comparison to Netflix. The variables help assess diversity and quality.\r\n",
    "  - **Method**: Downloaded manually from the source website.\r\n",
    "te.\r\n",
    "\n"
   ]
  },
  {
   "cell_type": "markdown",
   "id": "0c204d9f-1a19-41ce-9035-ca89300639c4",
   "metadata": {},
   "source": [
    "#### Dataset 1: Netflix Movies and TV Shows\n",
    "\n",
    "- **Type**: CSV file  \n",
    "- **Method**: This dataset was get using the Kaggle API.\n",
    "- **Source**: https://www.kaggle.com/datasets/shivamb/netflix-shows\n",
    "\n",
    "Dataset variables:\n",
    "\n",
    "The dataset includes the following key columns:\n",
    "1. **show_id**: A unique identifier assigned to each movie or TV show.\n",
    "2. **type**: Specifies whether the entry is a movie or a TV show.\n",
    "3. **title**: The title of the movie or TV show.\n",
    "4. **director**: The name of the director associated with the movie or TV show.\n",
    "5. **cast**: A list of actors and actresses featured in the production.\n",
    "6. **country**: Indicates the country where the movie or TV show was produced.\n",
    "7. **date_added**: The date when the content was added to Netflix.\n",
    "8. **release_year**: The year the movie or TV show was originally released.\n",
    "9. **rating**: A classification of the content based on viewer suitability.\n",
    "10. **duration**: The runtime or number of episodes for the content.\n",
    "11. **listed_in**: Categories or genres that describe the movie or TV show.\n",
    "12. **description**: A brief overview or synopsis of the content.\n"
   ]
  },
  {
   "cell_type": "code",
   "execution_count": 980,
   "id": "97f64258-8bc9-4d4b-92c2-2387d4ce19f5",
   "metadata": {},
   "outputs": [
    {
     "name": "stdout",
     "output_type": "stream",
     "text": [
      "Dataset 'netflix_titles.csv' loaded successfully!\n"
     ]
    }
   ],
   "source": [
    "# Define the folder and file paths\n",
    "data_directory = \"Project2_datasets\"\n",
    "expected_file_name = \"netflix_titles.csv\"  # based on the actual file name\n",
    "csv_file_path = os.path.join(data_directory, expected_file_name)\n",
    "\n",
    "# Check if the file exists before loading\n",
    "if not os.path.exists(csv_file_path):\n",
    "    print(f\"File '{expected_file_name}' not found in '{data_directory}'. Re-downloading the dataset...\")\n",
    "    kaggle.api.dataset_download_files(\"shivamb/netflix-shows\", path=data_directory, unzip=True)\n",
    "    print(\"Dataset downloaded. Checking directory contents:\")\n",
    "    print(os.listdir(data_directory))  # List directory contents for debugging\n",
    "\n",
    "# Try loading the dataset\n",
    "try:\n",
    "    netflix_data = pd.read_csv(csv_file_path)\n",
    "    print(f\"Dataset '{expected_file_name}' loaded successfully!\")\n",
    "except FileNotFoundError:\n",
    "    print(f\"Error: The file '{expected_file_name}' was not found after downloading.\")\n",
    "except Exception as e:\n",
    "    print(f\"An error occurred while loading the dataset: {e}\")\n"
   ]
  },
  {
   "cell_type": "markdown",
   "id": "9a0e324f-3a3c-413f-82f0-1590b0ba3da9",
   "metadata": {},
   "source": [
    "#### Dataset 2: Amazon Prime Movies and TV Shows\n",
    "\n",
    "- **Type**: CSV file  \n",
    "- **Method**: This dataset was obtained by manual download.  \n",
    "- **Source**: https://www.kaggle.com/datasets/shivamb/amazon-prime-movies-and-tv-shows\n",
    "\n",
    "Dataset variables:\n",
    "\n",
    "The dataset includes the following key columns:\n",
    "1. **show_id**: A unique identifier assigned to each movie or TV show.\n",
    "2. **type**: Specifies whether the entry is a movie or a TV show.\n",
    "3. **title**: The title of the movie or TV show.\n",
    "4. **director**: The name of the director associated with the movie or TV show.\n",
    "5. **cast**: A list of actors and actresses featured in the production.\n",
    "6. **country**: Indicates the country where the movie or TV show was produced.\n",
    "7. **date_added**: The date when the content was added to Amazon Prime.\n",
    "8. **release_year**: The year the movie or TV show was originally released.\n",
    "9. **rating**: A classification of the content based on viewer suitability.\n",
    "10. **duration**: The runtime or number of episodes for the content.\n",
    "11. **listed_in**: Categories or genres that describe the movie or TV show.\n",
    "12. **description**: A brief overview or synopsis of the content.\n"
   ]
  },
  {
   "cell_type": "code",
   "execution_count": 982,
   "id": "040101c1-abe9-4f34-b05f-718a60ec0b5f",
   "metadata": {},
   "outputs": [
    {
     "name": "stdout",
     "output_type": "stream",
     "text": [
      "Dataset 'amazon_prime_titles.csv' loaded successfully!\n"
     ]
    }
   ],
   "source": [
    "import os\n",
    "import pandas as pd\n",
    "\n",
    "# Define the folder and file paths\n",
    "data_directory = \"Project2_datasets\"\n",
    "file_name = \"amazon_prime_titles.csv\"  # Update this to the actual file name if different\n",
    "csv_file_path = os.path.join(data_directory, file_name)\n",
    "\n",
    "# Check if the file exists and load it\n",
    "if os.path.exists(csv_file_path):\n",
    "    amazon_data = pd.read_csv(csv_file_path)\n",
    "    print(f\"Dataset '{file_name}' loaded successfully!\")\n",
    "else:\n",
    "    print(f\"File '{file_name}' not found in the directory '{data_directory}'. Please verify the file location and name.\")\n"
   ]
  },
  {
   "cell_type": "markdown",
   "id": "689d5c78-078f-4a49-939c-ede7e98233cf",
   "metadata": {},
   "source": [
    "### 2. Assess Data\n",
    "In this section, I identified two data quality issues and two tidiness issues in the Netflix and Amazon Prime datasets. The data was assessed both visually and programmatically to ensure its quality and structure meet the requirements for analysis. Key issues include missing values, incorrect data types, separate datasets, and multiple genres in a single column.\n"
   ]
  },
  {
   "cell_type": "markdown",
   "id": "4ed4fa36-ab50-4856-85af-756f6221037a",
   "metadata": {},
   "source": [
    "#### Quality Issue 1: Missing Values\n",
    "- **Inspecting the dataframe visually**:\n"
   ]
  },
  {
   "cell_type": "code",
   "execution_count": 985,
   "id": "da394bb8-7cc8-44dc-a1d9-314495f199ff",
   "metadata": {},
   "outputs": [
    {
     "data": {
      "text/html": [
       "<div>\n",
       "<style scoped>\n",
       "    .dataframe tbody tr th:only-of-type {\n",
       "        vertical-align: middle;\n",
       "    }\n",
       "\n",
       "    .dataframe tbody tr th {\n",
       "        vertical-align: top;\n",
       "    }\n",
       "\n",
       "    .dataframe thead th {\n",
       "        text-align: right;\n",
       "    }\n",
       "</style>\n",
       "<table border=\"1\" class=\"dataframe\">\n",
       "  <thead>\n",
       "    <tr style=\"text-align: right;\">\n",
       "      <th></th>\n",
       "      <th>show_id</th>\n",
       "      <th>type</th>\n",
       "      <th>title</th>\n",
       "      <th>director</th>\n",
       "      <th>cast</th>\n",
       "      <th>country</th>\n",
       "      <th>date_added</th>\n",
       "      <th>release_year</th>\n",
       "      <th>rating</th>\n",
       "      <th>duration</th>\n",
       "      <th>listed_in</th>\n",
       "      <th>description</th>\n",
       "    </tr>\n",
       "  </thead>\n",
       "  <tbody>\n",
       "    <tr>\n",
       "      <th>0</th>\n",
       "      <td>s1</td>\n",
       "      <td>Movie</td>\n",
       "      <td>Dick Johnson Is Dead</td>\n",
       "      <td>Kirsten Johnson</td>\n",
       "      <td>NaN</td>\n",
       "      <td>United States</td>\n",
       "      <td>September 25, 2021</td>\n",
       "      <td>2020</td>\n",
       "      <td>PG-13</td>\n",
       "      <td>90 min</td>\n",
       "      <td>Documentaries</td>\n",
       "      <td>As her father nears the end of his life, filmm...</td>\n",
       "    </tr>\n",
       "    <tr>\n",
       "      <th>1</th>\n",
       "      <td>s2</td>\n",
       "      <td>TV Show</td>\n",
       "      <td>Blood &amp; Water</td>\n",
       "      <td>NaN</td>\n",
       "      <td>Ama Qamata, Khosi Ngema, Gail Mabalane, Thaban...</td>\n",
       "      <td>South Africa</td>\n",
       "      <td>September 24, 2021</td>\n",
       "      <td>2021</td>\n",
       "      <td>TV-MA</td>\n",
       "      <td>2 Seasons</td>\n",
       "      <td>International TV Shows, TV Dramas, TV Mysteries</td>\n",
       "      <td>After crossing paths at a party, a Cape Town t...</td>\n",
       "    </tr>\n",
       "    <tr>\n",
       "      <th>2</th>\n",
       "      <td>s3</td>\n",
       "      <td>TV Show</td>\n",
       "      <td>Ganglands</td>\n",
       "      <td>Julien Leclercq</td>\n",
       "      <td>Sami Bouajila, Tracy Gotoas, Samuel Jouy, Nabi...</td>\n",
       "      <td>NaN</td>\n",
       "      <td>September 24, 2021</td>\n",
       "      <td>2021</td>\n",
       "      <td>TV-MA</td>\n",
       "      <td>1 Season</td>\n",
       "      <td>Crime TV Shows, International TV Shows, TV Act...</td>\n",
       "      <td>To protect his family from a powerful drug lor...</td>\n",
       "    </tr>\n",
       "    <tr>\n",
       "      <th>3</th>\n",
       "      <td>s4</td>\n",
       "      <td>TV Show</td>\n",
       "      <td>Jailbirds New Orleans</td>\n",
       "      <td>NaN</td>\n",
       "      <td>NaN</td>\n",
       "      <td>NaN</td>\n",
       "      <td>September 24, 2021</td>\n",
       "      <td>2021</td>\n",
       "      <td>TV-MA</td>\n",
       "      <td>1 Season</td>\n",
       "      <td>Docuseries, Reality TV</td>\n",
       "      <td>Feuds, flirtations and toilet talk go down amo...</td>\n",
       "    </tr>\n",
       "    <tr>\n",
       "      <th>4</th>\n",
       "      <td>s5</td>\n",
       "      <td>TV Show</td>\n",
       "      <td>Kota Factory</td>\n",
       "      <td>NaN</td>\n",
       "      <td>Mayur More, Jitendra Kumar, Ranjan Raj, Alam K...</td>\n",
       "      <td>India</td>\n",
       "      <td>September 24, 2021</td>\n",
       "      <td>2021</td>\n",
       "      <td>TV-MA</td>\n",
       "      <td>2 Seasons</td>\n",
       "      <td>International TV Shows, Romantic TV Shows, TV ...</td>\n",
       "      <td>In a city of coaching centers known to train I...</td>\n",
       "    </tr>\n",
       "    <tr>\n",
       "      <th>5</th>\n",
       "      <td>s6</td>\n",
       "      <td>TV Show</td>\n",
       "      <td>Midnight Mass</td>\n",
       "      <td>Mike Flanagan</td>\n",
       "      <td>Kate Siegel, Zach Gilford, Hamish Linklater, H...</td>\n",
       "      <td>NaN</td>\n",
       "      <td>September 24, 2021</td>\n",
       "      <td>2021</td>\n",
       "      <td>TV-MA</td>\n",
       "      <td>1 Season</td>\n",
       "      <td>TV Dramas, TV Horror, TV Mysteries</td>\n",
       "      <td>The arrival of a charismatic young priest brin...</td>\n",
       "    </tr>\n",
       "    <tr>\n",
       "      <th>6</th>\n",
       "      <td>s7</td>\n",
       "      <td>Movie</td>\n",
       "      <td>My Little Pony: A New Generation</td>\n",
       "      <td>Robert Cullen, José Luis Ucha</td>\n",
       "      <td>Vanessa Hudgens, Kimiko Glenn, James Marsden, ...</td>\n",
       "      <td>NaN</td>\n",
       "      <td>September 24, 2021</td>\n",
       "      <td>2021</td>\n",
       "      <td>PG</td>\n",
       "      <td>91 min</td>\n",
       "      <td>Children &amp; Family Movies</td>\n",
       "      <td>Equestria's divided. But a bright-eyed hero be...</td>\n",
       "    </tr>\n",
       "    <tr>\n",
       "      <th>7</th>\n",
       "      <td>s8</td>\n",
       "      <td>Movie</td>\n",
       "      <td>Sankofa</td>\n",
       "      <td>Haile Gerima</td>\n",
       "      <td>Kofi Ghanaba, Oyafunmike Ogunlano, Alexandra D...</td>\n",
       "      <td>United States, Ghana, Burkina Faso, United Kin...</td>\n",
       "      <td>September 24, 2021</td>\n",
       "      <td>1993</td>\n",
       "      <td>TV-MA</td>\n",
       "      <td>125 min</td>\n",
       "      <td>Dramas, Independent Movies, International Movies</td>\n",
       "      <td>On a photo shoot in Ghana, an American model s...</td>\n",
       "    </tr>\n",
       "    <tr>\n",
       "      <th>8</th>\n",
       "      <td>s9</td>\n",
       "      <td>TV Show</td>\n",
       "      <td>The Great British Baking Show</td>\n",
       "      <td>Andy Devonshire</td>\n",
       "      <td>Mel Giedroyc, Sue Perkins, Mary Berry, Paul Ho...</td>\n",
       "      <td>United Kingdom</td>\n",
       "      <td>September 24, 2021</td>\n",
       "      <td>2021</td>\n",
       "      <td>TV-14</td>\n",
       "      <td>9 Seasons</td>\n",
       "      <td>British TV Shows, Reality TV</td>\n",
       "      <td>A talented batch of amateur bakers face off in...</td>\n",
       "    </tr>\n",
       "    <tr>\n",
       "      <th>9</th>\n",
       "      <td>s10</td>\n",
       "      <td>Movie</td>\n",
       "      <td>The Starling</td>\n",
       "      <td>Theodore Melfi</td>\n",
       "      <td>Melissa McCarthy, Chris O'Dowd, Kevin Kline, T...</td>\n",
       "      <td>United States</td>\n",
       "      <td>September 24, 2021</td>\n",
       "      <td>2021</td>\n",
       "      <td>PG-13</td>\n",
       "      <td>104 min</td>\n",
       "      <td>Comedies, Dramas</td>\n",
       "      <td>A woman adjusting to life after a loss contend...</td>\n",
       "    </tr>\n",
       "  </tbody>\n",
       "</table>\n",
       "</div>"
      ],
      "text/plain": [
       "  show_id     type                             title  \\\n",
       "0      s1    Movie              Dick Johnson Is Dead   \n",
       "1      s2  TV Show                     Blood & Water   \n",
       "2      s3  TV Show                         Ganglands   \n",
       "3      s4  TV Show             Jailbirds New Orleans   \n",
       "4      s5  TV Show                      Kota Factory   \n",
       "5      s6  TV Show                     Midnight Mass   \n",
       "6      s7    Movie  My Little Pony: A New Generation   \n",
       "7      s8    Movie                           Sankofa   \n",
       "8      s9  TV Show     The Great British Baking Show   \n",
       "9     s10    Movie                      The Starling   \n",
       "\n",
       "                        director  \\\n",
       "0                Kirsten Johnson   \n",
       "1                            NaN   \n",
       "2                Julien Leclercq   \n",
       "3                            NaN   \n",
       "4                            NaN   \n",
       "5                  Mike Flanagan   \n",
       "6  Robert Cullen, José Luis Ucha   \n",
       "7                   Haile Gerima   \n",
       "8                Andy Devonshire   \n",
       "9                 Theodore Melfi   \n",
       "\n",
       "                                                cast  \\\n",
       "0                                                NaN   \n",
       "1  Ama Qamata, Khosi Ngema, Gail Mabalane, Thaban...   \n",
       "2  Sami Bouajila, Tracy Gotoas, Samuel Jouy, Nabi...   \n",
       "3                                                NaN   \n",
       "4  Mayur More, Jitendra Kumar, Ranjan Raj, Alam K...   \n",
       "5  Kate Siegel, Zach Gilford, Hamish Linklater, H...   \n",
       "6  Vanessa Hudgens, Kimiko Glenn, James Marsden, ...   \n",
       "7  Kofi Ghanaba, Oyafunmike Ogunlano, Alexandra D...   \n",
       "8  Mel Giedroyc, Sue Perkins, Mary Berry, Paul Ho...   \n",
       "9  Melissa McCarthy, Chris O'Dowd, Kevin Kline, T...   \n",
       "\n",
       "                                             country          date_added  \\\n",
       "0                                      United States  September 25, 2021   \n",
       "1                                       South Africa  September 24, 2021   \n",
       "2                                                NaN  September 24, 2021   \n",
       "3                                                NaN  September 24, 2021   \n",
       "4                                              India  September 24, 2021   \n",
       "5                                                NaN  September 24, 2021   \n",
       "6                                                NaN  September 24, 2021   \n",
       "7  United States, Ghana, Burkina Faso, United Kin...  September 24, 2021   \n",
       "8                                     United Kingdom  September 24, 2021   \n",
       "9                                      United States  September 24, 2021   \n",
       "\n",
       "   release_year rating   duration  \\\n",
       "0          2020  PG-13     90 min   \n",
       "1          2021  TV-MA  2 Seasons   \n",
       "2          2021  TV-MA   1 Season   \n",
       "3          2021  TV-MA   1 Season   \n",
       "4          2021  TV-MA  2 Seasons   \n",
       "5          2021  TV-MA   1 Season   \n",
       "6          2021     PG     91 min   \n",
       "7          1993  TV-MA    125 min   \n",
       "8          2021  TV-14  9 Seasons   \n",
       "9          2021  PG-13    104 min   \n",
       "\n",
       "                                           listed_in  \\\n",
       "0                                      Documentaries   \n",
       "1    International TV Shows, TV Dramas, TV Mysteries   \n",
       "2  Crime TV Shows, International TV Shows, TV Act...   \n",
       "3                             Docuseries, Reality TV   \n",
       "4  International TV Shows, Romantic TV Shows, TV ...   \n",
       "5                 TV Dramas, TV Horror, TV Mysteries   \n",
       "6                           Children & Family Movies   \n",
       "7   Dramas, Independent Movies, International Movies   \n",
       "8                       British TV Shows, Reality TV   \n",
       "9                                   Comedies, Dramas   \n",
       "\n",
       "                                         description  \n",
       "0  As her father nears the end of his life, filmm...  \n",
       "1  After crossing paths at a party, a Cape Town t...  \n",
       "2  To protect his family from a powerful drug lor...  \n",
       "3  Feuds, flirtations and toilet talk go down amo...  \n",
       "4  In a city of coaching centers known to train I...  \n",
       "5  The arrival of a charismatic young priest brin...  \n",
       "6  Equestria's divided. But a bright-eyed hero be...  \n",
       "7  On a photo shoot in Ghana, an American model s...  \n",
       "8  A talented batch of amateur bakers face off in...  \n",
       "9  A woman adjusting to life after a loss contend...  "
      ]
     },
     "execution_count": 985,
     "metadata": {},
     "output_type": "execute_result"
    }
   ],
   "source": [
    "  netflix_data.head(10)  # Check for NaN values in key columns visually"
   ]
  },
  {
   "cell_type": "code",
   "execution_count": 986,
   "id": "bdb2f9a3-f723-40cb-a965-812509beb371",
   "metadata": {},
   "outputs": [
    {
     "data": {
      "text/html": [
       "<div>\n",
       "<style scoped>\n",
       "    .dataframe tbody tr th:only-of-type {\n",
       "        vertical-align: middle;\n",
       "    }\n",
       "\n",
       "    .dataframe tbody tr th {\n",
       "        vertical-align: top;\n",
       "    }\n",
       "\n",
       "    .dataframe thead th {\n",
       "        text-align: right;\n",
       "    }\n",
       "</style>\n",
       "<table border=\"1\" class=\"dataframe\">\n",
       "  <thead>\n",
       "    <tr style=\"text-align: right;\">\n",
       "      <th></th>\n",
       "      <th>show_id</th>\n",
       "      <th>type</th>\n",
       "      <th>title</th>\n",
       "      <th>director</th>\n",
       "      <th>cast</th>\n",
       "      <th>country</th>\n",
       "      <th>date_added</th>\n",
       "      <th>release_year</th>\n",
       "      <th>rating</th>\n",
       "      <th>duration</th>\n",
       "      <th>listed_in</th>\n",
       "      <th>description</th>\n",
       "    </tr>\n",
       "  </thead>\n",
       "  <tbody>\n",
       "    <tr>\n",
       "      <th>0</th>\n",
       "      <td>s1</td>\n",
       "      <td>Movie</td>\n",
       "      <td>The Grand Seduction</td>\n",
       "      <td>Don McKellar</td>\n",
       "      <td>Brendan Gleeson, Taylor Kitsch, Gordon Pinsent</td>\n",
       "      <td>Canada</td>\n",
       "      <td>March 30, 2021</td>\n",
       "      <td>2014</td>\n",
       "      <td>NaN</td>\n",
       "      <td>113 min</td>\n",
       "      <td>Comedy, Drama</td>\n",
       "      <td>A small fishing village must procure a local d...</td>\n",
       "    </tr>\n",
       "    <tr>\n",
       "      <th>1</th>\n",
       "      <td>s2</td>\n",
       "      <td>Movie</td>\n",
       "      <td>Take Care Good Night</td>\n",
       "      <td>Girish Joshi</td>\n",
       "      <td>Mahesh Manjrekar, Abhay Mahajan, Sachin Khedekar</td>\n",
       "      <td>India</td>\n",
       "      <td>March 30, 2021</td>\n",
       "      <td>2018</td>\n",
       "      <td>13+</td>\n",
       "      <td>110 min</td>\n",
       "      <td>Drama, International</td>\n",
       "      <td>A Metro Family decides to fight a Cyber Crimin...</td>\n",
       "    </tr>\n",
       "    <tr>\n",
       "      <th>2</th>\n",
       "      <td>s3</td>\n",
       "      <td>Movie</td>\n",
       "      <td>Secrets of Deception</td>\n",
       "      <td>Josh Webber</td>\n",
       "      <td>Tom Sizemore, Lorenzo Lamas, Robert LaSardo, R...</td>\n",
       "      <td>United States</td>\n",
       "      <td>March 30, 2021</td>\n",
       "      <td>2017</td>\n",
       "      <td>NaN</td>\n",
       "      <td>74 min</td>\n",
       "      <td>Action, Drama, Suspense</td>\n",
       "      <td>After a man discovers his wife is cheating on ...</td>\n",
       "    </tr>\n",
       "    <tr>\n",
       "      <th>3</th>\n",
       "      <td>s4</td>\n",
       "      <td>Movie</td>\n",
       "      <td>Pink: Staying True</td>\n",
       "      <td>Sonia Anderson</td>\n",
       "      <td>Interviews with: Pink, Adele, Beyoncé, Britney...</td>\n",
       "      <td>United States</td>\n",
       "      <td>March 30, 2021</td>\n",
       "      <td>2014</td>\n",
       "      <td>NaN</td>\n",
       "      <td>69 min</td>\n",
       "      <td>Documentary</td>\n",
       "      <td>Pink breaks the mold once again, bringing her ...</td>\n",
       "    </tr>\n",
       "    <tr>\n",
       "      <th>4</th>\n",
       "      <td>s5</td>\n",
       "      <td>Movie</td>\n",
       "      <td>Monster Maker</td>\n",
       "      <td>Giles Foster</td>\n",
       "      <td>Harry Dean Stanton, Kieran O'Brien, George Cos...</td>\n",
       "      <td>United Kingdom</td>\n",
       "      <td>March 30, 2021</td>\n",
       "      <td>1989</td>\n",
       "      <td>NaN</td>\n",
       "      <td>45 min</td>\n",
       "      <td>Drama, Fantasy</td>\n",
       "      <td>Teenage Matt Banting wants to work with a famo...</td>\n",
       "    </tr>\n",
       "    <tr>\n",
       "      <th>5</th>\n",
       "      <td>s6</td>\n",
       "      <td>Movie</td>\n",
       "      <td>Living With Dinosaurs</td>\n",
       "      <td>Paul Weiland</td>\n",
       "      <td>Gregory Chisholm, Juliet Stevenson, Brian Hens...</td>\n",
       "      <td>United Kingdom</td>\n",
       "      <td>March 30, 2021</td>\n",
       "      <td>1989</td>\n",
       "      <td>NaN</td>\n",
       "      <td>52 min</td>\n",
       "      <td>Fantasy, Kids</td>\n",
       "      <td>The story unfolds in a an English seaside town...</td>\n",
       "    </tr>\n",
       "    <tr>\n",
       "      <th>6</th>\n",
       "      <td>s7</td>\n",
       "      <td>Movie</td>\n",
       "      <td>Hired Gun</td>\n",
       "      <td>Fran Strine</td>\n",
       "      <td>Alice Cooper, Liberty DeVitto, Ray Parker Jr.,...</td>\n",
       "      <td>United States</td>\n",
       "      <td>March 30, 2021</td>\n",
       "      <td>2017</td>\n",
       "      <td>NaN</td>\n",
       "      <td>98 min</td>\n",
       "      <td>Documentary, Special Interest</td>\n",
       "      <td>They are the \"First Call, A-list\" musicians, j...</td>\n",
       "    </tr>\n",
       "    <tr>\n",
       "      <th>7</th>\n",
       "      <td>s8</td>\n",
       "      <td>Movie</td>\n",
       "      <td>Grease Live!</td>\n",
       "      <td>Thomas Kail, Alex Rudzinski</td>\n",
       "      <td>Julianne Hough, Aaron Tveit, Vanessa Hudgens, ...</td>\n",
       "      <td>United States</td>\n",
       "      <td>March 30, 2021</td>\n",
       "      <td>2016</td>\n",
       "      <td>NaN</td>\n",
       "      <td>131 min</td>\n",
       "      <td>Comedy</td>\n",
       "      <td>This honest, uncompromising comedy chronicles ...</td>\n",
       "    </tr>\n",
       "    <tr>\n",
       "      <th>8</th>\n",
       "      <td>s9</td>\n",
       "      <td>Movie</td>\n",
       "      <td>Global Meltdown</td>\n",
       "      <td>Daniel Gilboy</td>\n",
       "      <td>Michael Paré, Leanne Khol Young, Patrick J. Ma...</td>\n",
       "      <td>Canada</td>\n",
       "      <td>March 30, 2021</td>\n",
       "      <td>2017</td>\n",
       "      <td>NaN</td>\n",
       "      <td>87 min</td>\n",
       "      <td>Action, Science Fiction, Suspense</td>\n",
       "      <td>A helicopter pilot and an environmental scient...</td>\n",
       "    </tr>\n",
       "    <tr>\n",
       "      <th>9</th>\n",
       "      <td>s10</td>\n",
       "      <td>Movie</td>\n",
       "      <td>David's Mother</td>\n",
       "      <td>Robert Allan Ackerman</td>\n",
       "      <td>Kirstie Alley, Sam Waterston, Stockard Channing</td>\n",
       "      <td>United States</td>\n",
       "      <td>April 1, 2021</td>\n",
       "      <td>1994</td>\n",
       "      <td>NaN</td>\n",
       "      <td>92 min</td>\n",
       "      <td>Drama</td>\n",
       "      <td>Sally Goodson is a devoted mother to her autis...</td>\n",
       "    </tr>\n",
       "  </tbody>\n",
       "</table>\n",
       "</div>"
      ],
      "text/plain": [
       "  show_id   type                  title                     director  \\\n",
       "0      s1  Movie    The Grand Seduction                 Don McKellar   \n",
       "1      s2  Movie   Take Care Good Night                 Girish Joshi   \n",
       "2      s3  Movie   Secrets of Deception                  Josh Webber   \n",
       "3      s4  Movie     Pink: Staying True               Sonia Anderson   \n",
       "4      s5  Movie          Monster Maker                 Giles Foster   \n",
       "5      s6  Movie  Living With Dinosaurs                 Paul Weiland   \n",
       "6      s7  Movie              Hired Gun                  Fran Strine   \n",
       "7      s8  Movie           Grease Live!  Thomas Kail, Alex Rudzinski   \n",
       "8      s9  Movie        Global Meltdown                Daniel Gilboy   \n",
       "9     s10  Movie         David's Mother        Robert Allan Ackerman   \n",
       "\n",
       "                                                cast         country  \\\n",
       "0     Brendan Gleeson, Taylor Kitsch, Gordon Pinsent          Canada   \n",
       "1   Mahesh Manjrekar, Abhay Mahajan, Sachin Khedekar           India   \n",
       "2  Tom Sizemore, Lorenzo Lamas, Robert LaSardo, R...   United States   \n",
       "3  Interviews with: Pink, Adele, Beyoncé, Britney...   United States   \n",
       "4  Harry Dean Stanton, Kieran O'Brien, George Cos...  United Kingdom   \n",
       "5  Gregory Chisholm, Juliet Stevenson, Brian Hens...  United Kingdom   \n",
       "6  Alice Cooper, Liberty DeVitto, Ray Parker Jr.,...   United States   \n",
       "7  Julianne Hough, Aaron Tveit, Vanessa Hudgens, ...   United States   \n",
       "8  Michael Paré, Leanne Khol Young, Patrick J. Ma...          Canada   \n",
       "9    Kirstie Alley, Sam Waterston, Stockard Channing   United States   \n",
       "\n",
       "       date_added  release_year rating duration  \\\n",
       "0  March 30, 2021          2014    NaN  113 min   \n",
       "1  March 30, 2021          2018    13+  110 min   \n",
       "2  March 30, 2021          2017    NaN   74 min   \n",
       "3  March 30, 2021          2014    NaN   69 min   \n",
       "4  March 30, 2021          1989    NaN   45 min   \n",
       "5  March 30, 2021          1989    NaN   52 min   \n",
       "6  March 30, 2021          2017    NaN   98 min   \n",
       "7  March 30, 2021          2016    NaN  131 min   \n",
       "8  March 30, 2021          2017    NaN   87 min   \n",
       "9   April 1, 2021          1994    NaN   92 min   \n",
       "\n",
       "                           listed_in  \\\n",
       "0                      Comedy, Drama   \n",
       "1               Drama, International   \n",
       "2            Action, Drama, Suspense   \n",
       "3                        Documentary   \n",
       "4                     Drama, Fantasy   \n",
       "5                      Fantasy, Kids   \n",
       "6      Documentary, Special Interest   \n",
       "7                             Comedy   \n",
       "8  Action, Science Fiction, Suspense   \n",
       "9                              Drama   \n",
       "\n",
       "                                         description  \n",
       "0  A small fishing village must procure a local d...  \n",
       "1  A Metro Family decides to fight a Cyber Crimin...  \n",
       "2  After a man discovers his wife is cheating on ...  \n",
       "3  Pink breaks the mold once again, bringing her ...  \n",
       "4  Teenage Matt Banting wants to work with a famo...  \n",
       "5  The story unfolds in a an English seaside town...  \n",
       "6  They are the \"First Call, A-list\" musicians, j...  \n",
       "7  This honest, uncompromising comedy chronicles ...  \n",
       "8  A helicopter pilot and an environmental scient...  \n",
       "9  Sally Goodson is a devoted mother to her autis...  "
      ]
     },
     "execution_count": 986,
     "metadata": {},
     "output_type": "execute_result"
    }
   ],
   "source": [
    "amazon_data.head(10)"
   ]
  },
  {
   "cell_type": "code",
   "execution_count": 987,
   "id": "64693dd8-a7d3-4c01-9535-5484bb29c5cc",
   "metadata": {},
   "outputs": [
    {
     "name": "stdout",
     "output_type": "stream",
     "text": [
      "show_id            0\n",
      "type               0\n",
      "title              0\n",
      "director        2634\n",
      "cast             825\n",
      "country          831\n",
      "date_added        10\n",
      "release_year       0\n",
      "rating             4\n",
      "duration           3\n",
      "listed_in          0\n",
      "description        0\n",
      "dtype: int64\n"
     ]
    }
   ],
   "source": [
    "print(netflix_data.isnull().sum())  # Count missing values in each column for Netflix"
   ]
  },
  {
   "cell_type": "markdown",
   "id": "c48c148e-ca2d-45c8-a052-8e44467e7346",
   "metadata": {},
   "source": [
    "The Netflix dataset has missing values in key columns like `director`, `cast`, and `country`, which require cleaning to ensure accurate and complete analysis."
   ]
  },
  {
   "cell_type": "code",
   "execution_count": 989,
   "id": "73cefe9d-093f-4d52-bccb-92c81b5a4742",
   "metadata": {},
   "outputs": [
    {
     "name": "stdout",
     "output_type": "stream",
     "text": [
      "show_id            0\n",
      "type               0\n",
      "title              0\n",
      "director        2083\n",
      "cast            1233\n",
      "country         8996\n",
      "date_added      9513\n",
      "release_year       0\n",
      "rating           337\n",
      "duration           0\n",
      "listed_in          0\n",
      "description        0\n",
      "dtype: int64\n"
     ]
    }
   ],
   "source": [
    "print(amazon_data.isnull().sum())  # Count missing values in each column for Amazon Prime"
   ]
  },
  {
   "cell_type": "markdown",
   "id": "a47dfa73-c8f0-42f3-8849-e20d20cece6c",
   "metadata": {},
   "source": [
    "- **Issue and justification**:  \n",
    "Some important columns, like `director`, `cast`, and `country`, have missing values in both datasets. This makes the data incomplete and can affect any analysis that depends on these columns, like finding trends related to directors, actors, or countries. Fixing these missing values is necessary to ensure the analysis is accurate.\n"
   ]
  },
  {
   "cell_type": "markdown",
   "id": "9b66697e-921c-4dcb-b65f-0790dfd65139",
   "metadata": {},
   "source": [
    "#### Quality Issue 2: Incorrect Data Types\n",
    "\n",
    "The `date_added` column is incorrectly stored as a string instead of a datetime object. This issue affects time-based analyses and must be corrected to enable reliable operations like filtering and sorting by date."
   ]
  },
  {
   "cell_type": "markdown",
   "id": "3184b947-5d6a-42a7-a798-6e67e6b885f9",
   "metadata": {},
   "source": [
    "- **Inspecting the dataframe visually**:"
   ]
  },
  {
   "cell_type": "code",
   "execution_count": 993,
   "id": "3919d419-4f1d-4253-b769-c9c7b599efb8",
   "metadata": {},
   "outputs": [
    {
     "name": "stdout",
     "output_type": "stream",
     "text": [
      "<class 'pandas.core.frame.DataFrame'>\n",
      "RangeIndex: 8807 entries, 0 to 8806\n",
      "Data columns (total 12 columns):\n",
      " #   Column        Non-Null Count  Dtype \n",
      "---  ------        --------------  ----- \n",
      " 0   show_id       8807 non-null   object\n",
      " 1   type          8807 non-null   object\n",
      " 2   title         8807 non-null   object\n",
      " 3   director      6173 non-null   object\n",
      " 4   cast          7982 non-null   object\n",
      " 5   country       7976 non-null   object\n",
      " 6   date_added    8797 non-null   object\n",
      " 7   release_year  8807 non-null   int64 \n",
      " 8   rating        8803 non-null   object\n",
      " 9   duration      8804 non-null   object\n",
      " 10  listed_in     8807 non-null   object\n",
      " 11  description   8807 non-null   object\n",
      "dtypes: int64(1), object(11)\n",
      "memory usage: 825.8+ KB\n"
     ]
    }
   ],
   "source": [
    "netflix_data.info()  # Review data types visually"
   ]
  },
  {
   "cell_type": "code",
   "execution_count": 994,
   "id": "9e2360d5-c864-4ad6-93a7-497ca5f76533",
   "metadata": {},
   "outputs": [
    {
     "name": "stdout",
     "output_type": "stream",
     "text": [
      "<class 'pandas.core.frame.DataFrame'>\n",
      "RangeIndex: 9668 entries, 0 to 9667\n",
      "Data columns (total 12 columns):\n",
      " #   Column        Non-Null Count  Dtype \n",
      "---  ------        --------------  ----- \n",
      " 0   show_id       9668 non-null   object\n",
      " 1   type          9668 non-null   object\n",
      " 2   title         9668 non-null   object\n",
      " 3   director      7585 non-null   object\n",
      " 4   cast          8435 non-null   object\n",
      " 5   country       672 non-null    object\n",
      " 6   date_added    155 non-null    object\n",
      " 7   release_year  9668 non-null   int64 \n",
      " 8   rating        9331 non-null   object\n",
      " 9   duration      9668 non-null   object\n",
      " 10  listed_in     9668 non-null   object\n",
      " 11  description   9668 non-null   object\n",
      "dtypes: int64(1), object(11)\n",
      "memory usage: 906.5+ KB\n"
     ]
    }
   ],
   "source": [
    "amazon_data.info()"
   ]
  },
  {
   "cell_type": "code",
   "execution_count": 995,
   "id": "bb95b10a-7196-4d6c-a092-cc70ebbebfb2",
   "metadata": {},
   "outputs": [
    {
     "name": "stdout",
     "output_type": "stream",
     "text": [
      "2240      July 15, 2020\n",
      "2822     March 13, 2020\n",
      "778        June 2, 2021\n",
      "7750    January 1, 2018\n",
      "5018      March 1, 2018\n",
      "Name: date_added, dtype: object\n"
     ]
    }
   ],
   "source": [
    "print(netflix_data['date_added'].sample(5))  # Check the `date_added` column for format inconsistencies"
   ]
  },
  {
   "cell_type": "code",
   "execution_count": 996,
   "id": "886cc7b9-7331-4603-bf00-26c80f5f8ac7",
   "metadata": {},
   "outputs": [
    {
     "name": "stdout",
     "output_type": "stream",
     "text": [
      "6693    NaN\n",
      "4729    NaN\n",
      "1949    NaN\n",
      "1071    NaN\n",
      "7893    NaN\n",
      "Name: date_added, dtype: object\n"
     ]
    }
   ],
   "source": [
    "print(amazon_data['date_added'].sample(5))"
   ]
  },
  {
   "cell_type": "markdown",
   "id": "de685145-31ca-4503-b526-405a203a939e",
   "metadata": {},
   "source": [
    "- **Issue and justification**:  \n",
    "The `date_added` column in both datasets is stored as text instead of a proper date format. This makes it difficult to analyze trends or filter by dates. The Netflix dataset has most `date_added` values filled, but the Amazon Prime dataset has many missing values. To fix this, we need to convert the column to a date format and handle the missing data in the Amazon Prime dataset.\n"
   ]
  },
  {
   "cell_type": "markdown",
   "id": "09de792e-75a7-4544-81d7-b1a8dd806ab4",
   "metadata": {},
   "source": [
    "#### Tidiness Issue 1: Separate Datasets\n",
    "\n",
    "The Netflix and Amazon Prime datasets are stored as separate files, even though they share similar columns and serve a common purpose. Keeping these datasets separate complicates comparative analyses and requires additional steps to merge or compare content between the two platforms."
   ]
  },
  {
   "cell_type": "markdown",
   "id": "b4926833-d4da-48f6-8ecb-34f45406c86e",
   "metadata": {},
   "source": [
    "- **Inspecting the dataframe visually**:"
   ]
  },
  {
   "cell_type": "code",
   "execution_count": 1000,
   "id": "e1746e30-5ca9-4c78-8c7f-0b488a49a203",
   "metadata": {},
   "outputs": [
    {
     "name": "stdout",
     "output_type": "stream",
     "text": [
      "Index(['show_id', 'type', 'title', 'director', 'cast', 'country', 'date_added',\n",
      "       'release_year', 'rating', 'duration', 'listed_in', 'description'],\n",
      "      dtype='object')\n"
     ]
    }
   ],
   "source": [
    "  print(netflix_data.columns)  # Check the columns in the Netflix dataset"
   ]
  },
  {
   "cell_type": "code",
   "execution_count": 1001,
   "id": "cd882fe2-bd4d-4214-95f9-5809a9024449",
   "metadata": {},
   "outputs": [
    {
     "name": "stdout",
     "output_type": "stream",
     "text": [
      "Index(['show_id', 'type', 'title', 'director', 'cast', 'country', 'date_added',\n",
      "       'release_year', 'rating', 'duration', 'listed_in', 'description'],\n",
      "      dtype='object')\n"
     ]
    }
   ],
   "source": [
    "  print(amazon_data.columns)  # Check the columns in the Amazon Prime dataset"
   ]
  },
  {
   "cell_type": "code",
   "execution_count": 1002,
   "id": "48cd281a-ce94-4242-9160-0e7b583171d0",
   "metadata": {},
   "outputs": [
    {
     "name": "stdout",
     "output_type": "stream",
     "text": [
      "Common columns: {'director', 'rating', 'listed_in', 'duration', 'show_id', 'type', 'country', 'date_added', 'description', 'release_year', 'cast', 'title'}\n"
     ]
    }
   ],
   "source": [
    "netflix_columns = set(netflix_data.columns)\n",
    "amazon_columns = set(amazon_data.columns)\n",
    "print(\"Common columns:\", netflix_columns & amazon_columns)"
   ]
  },
  {
   "cell_type": "code",
   "execution_count": 1003,
   "id": "74bb2b31-6111-421a-ada7-0d155826304f",
   "metadata": {},
   "outputs": [
    {
     "name": "stdout",
     "output_type": "stream",
     "text": [
      "Unique columns (Netflix): set()\n"
     ]
    }
   ],
   "source": [
    "print(\"Unique columns (Netflix):\", netflix_columns - amazon_columns)"
   ]
  },
  {
   "cell_type": "code",
   "execution_count": 1004,
   "id": "a6d0b82e-f3b8-4a68-915f-54b759b94984",
   "metadata": {},
   "outputs": [
    {
     "name": "stdout",
     "output_type": "stream",
     "text": [
      "Unique columns (Amazon Prime): set()\n"
     ]
    }
   ],
   "source": [
    "print(\"Unique columns (Amazon Prime):\", amazon_columns - netflix_columns)"
   ]
  },
  {
   "cell_type": "markdown",
   "id": "505c7cca-910e-4c45-96e4-33f6d0f524df",
   "metadata": {},
   "source": [
    "- **Issue and justification**:  \n",
    "The Netflix and Amazon Prime datasets share identical columns, making it possible to combine them into a single dataset. Adding a `platform` column to indicate the source will simplify comparative analysis and make the data easier to work with.\n"
   ]
  },
  {
   "cell_type": "markdown",
   "id": "9e2d70e5-ca4e-4e84-8ed8-6ab597182b2e",
   "metadata": {},
   "source": [
    "#### Tidiness Issue 2: Multiple Values in listed_in Column\n"
   ]
  },
  {
   "cell_type": "markdown",
   "id": "1ffba1c9-dbf7-4a5f-95e2-0740eeeaef37",
   "metadata": {},
   "source": [
    "The `listed_in` column in both datasets contains multiple genres/categories stored as a single string separated by commas. This format makes it difficult to analyze individual genres, such as finding the most popular genres or filtering content by a specific genre."
   ]
  },
  {
   "cell_type": "markdown",
   "id": "297af9ef-1682-4b4d-9017-e38118628641",
   "metadata": {},
   "source": [
    "- **Inspecting the dataframe visually**:"
   ]
  },
  {
   "cell_type": "code",
   "execution_count": 1009,
   "id": "6e6f023b-ef1f-4268-8cd8-986a565ef97f",
   "metadata": {},
   "outputs": [
    {
     "name": "stdout",
     "output_type": "stream",
     "text": [
      "0                                        Documentaries\n",
      "1      International TV Shows, TV Dramas, TV Mysteries\n",
      "2    Crime TV Shows, International TV Shows, TV Act...\n",
      "3                               Docuseries, Reality TV\n",
      "4    International TV Shows, Romantic TV Shows, TV ...\n",
      "Name: listed_in, dtype: object\n"
     ]
    }
   ],
   "source": [
    "  print(netflix_data['listed_in'].head(5))  # Display sample values from Netflix dataset"
   ]
  },
  {
   "cell_type": "code",
   "execution_count": 1010,
   "id": "5d9b8421-a4e4-4b0a-ac16-436df87a8ddd",
   "metadata": {},
   "outputs": [
    {
     "name": "stdout",
     "output_type": "stream",
     "text": [
      "0              Comedy, Drama\n",
      "1       Drama, International\n",
      "2    Action, Drama, Suspense\n",
      "3                Documentary\n",
      "4             Drama, Fantasy\n",
      "Name: listed_in, dtype: object\n"
     ]
    }
   ],
   "source": [
    "  print(amazon_data['listed_in'].head(5))  # Display sample values from Amazon Prime dataset"
   ]
  },
  {
   "cell_type": "code",
   "execution_count": 1011,
   "id": "a3a858c5-6530-4a3b-bf05-b28c2ef02b8c",
   "metadata": {},
   "outputs": [],
   "source": [
    "netflix_genres = netflix_data['listed_in'].str.split(', ')"
   ]
  },
  {
   "cell_type": "code",
   "execution_count": 1012,
   "id": "15d96036-26e1-4b06-9d9e-f9a29afdf79f",
   "metadata": {},
   "outputs": [],
   "source": [
    "amazon_genres = amazon_data['listed_in'].str.split(', ')"
   ]
  },
  {
   "cell_type": "code",
   "execution_count": 1013,
   "id": "2105514f-789c-4fbf-af0c-c34da111f959",
   "metadata": {},
   "outputs": [
    {
     "name": "stdout",
     "output_type": "stream",
     "text": [
      "947                                   [Dramas, Thrillers]\n",
      "2514    [British TV Shows, International TV Shows, Rea...\n",
      "908          [TV Action & Adventure, TV Sci-Fi & Fantasy]\n",
      "4003           [Action & Adventure, International Movies]\n",
      "32      [British TV Shows, International TV Shows, TV ...\n",
      "Name: listed_in, dtype: object\n"
     ]
    }
   ],
   "source": [
    "print(netflix_genres.sample(5))  # Check how genres are stored in Netflix"
   ]
  },
  {
   "cell_type": "code",
   "execution_count": 1014,
   "id": "491774b5-a04d-4037-978a-a06f49b42afc",
   "metadata": {},
   "outputs": [
    {
     "name": "stdout",
     "output_type": "stream",
     "text": [
      "5919                      [Comedy, Drama, Romance]\n",
      "2924                                        [Kids]\n",
      "3127                                      [Horror]\n",
      "2405               [Documentary, Special Interest]\n",
      "39      [Faith and Spirituality, Special Interest]\n",
      "Name: listed_in, dtype: object\n"
     ]
    }
   ],
   "source": [
    "print(amazon_genres.sample(5))  # Check how genres are stored in Amazon Prime"
   ]
  },
  {
   "cell_type": "markdown",
   "id": "7cf7aa00-0ac0-4001-a7c6-9077e4f64ae9",
   "metadata": {},
   "source": [
    "- **Issue and justification**:  \n",
    "The `listed_in` column in both datasets includes multiple genres in a single cell, separated by commas. This makes it hard to analyze individual genres, such as identifying the most popular genres or filtering content by a specific one. To fix this, the genres should be separated so each one can be analyzed on its own, making it easier to explore trends and patterns.\n"
   ]
  },
  {
   "cell_type": "markdown",
   "id": "f75fc0ef-536b-472f-b103-2f0de7334f20",
   "metadata": {},
   "source": [
    "### 3. Clean Data\n",
    "\n",
    "In this section, the data is cleaned to address the four issues identified in the assessment step. Cleaning decisions are justified, and the results are validated programmatically or visually."
   ]
  },
  {
   "cell_type": "markdown",
   "id": "0bca935c-1eef-4ef2-bdf5-f6a7bf513208",
   "metadata": {},
   "source": [
    "#### Initial Step: Create Copies of the Data\n",
    "To preserve the original datasets, copies are made before applying cleaning operations."
   ]
  },
  {
   "cell_type": "code",
   "execution_count": 1018,
   "id": "cd231e98-74f7-48d2-875c-4dada90368d4",
   "metadata": {},
   "outputs": [],
   "source": [
    "netflix_cleaned = netflix_data.copy()\n",
    "amazon_cleaned = amazon_data.copy()"
   ]
  },
  {
   "cell_type": "markdown",
   "id": "713decfc-8677-4d16-82b2-e661546d5ad3",
   "metadata": {},
   "source": [
    "#### **Quality Issue 1: Missing Values**\n",
    "\n",
    "**Cleaning Strategy**:  \n",
    "- Fill missing values in key columns (`director`, `cast`, and `country`) with \"Unknown\" or placeholders to avoid data loss.\n",
    "- For columns with minimal missing values like `rating` and `duration`, drop rows with missing data since they make up a negligible proportion of the dataset."
   ]
  },
  {
   "cell_type": "code",
   "execution_count": 1020,
   "id": "35bcd0aa-b70f-41cb-800f-e8fe90039148",
   "metadata": {},
   "outputs": [],
   "source": [
    "netflix_cleaned = netflix_cleaned.copy()  # Ensure it's a copy of the DataFrame\n",
    "amazon_cleaned = amazon_cleaned.copy()\n",
    "# Fill missing values with \"Unknown\"\n",
    "\n",
    "netflix_cleaned['director'] = netflix_cleaned['director'].fillna(\"Unknown\")\n",
    "netflix_cleaned['cast'] = netflix_cleaned['cast'].fillna(\"Unknown\")\n",
    "netflix_cleaned['country'] = netflix_cleaned['country'].fillna(\"Unknown\")\n",
    "\n",
    "amazon_cleaned['director'] = amazon_cleaned['director'].fillna(\"Unknown\")\n",
    "amazon_cleaned['cast'] = amazon_cleaned['cast'].fillna(\"Unknown\")\n",
    "amazon_cleaned['country'] = amazon_cleaned['country'].fillna(\"Unknown\")"
   ]
  },
  {
   "cell_type": "code",
   "execution_count": 1021,
   "id": "8d65a1c7-de45-454d-a317-96d2620d4914",
   "metadata": {},
   "outputs": [],
   "source": [
    "# Drop rows with missing values in `rating` and `duration`\n",
    "netflix_cleaned.dropna(subset=['rating', 'duration'], inplace=True)\n",
    "amazon_cleaned.dropna(subset=['rating'], inplace=True)  # Amazon Prime has no missing duration"
   ]
  },
  {
   "cell_type": "code",
   "execution_count": 1022,
   "id": "55e709b7-c5d9-4a58-a7df-33b531d676b7",
   "metadata": {},
   "outputs": [
    {
     "name": "stdout",
     "output_type": "stream",
     "text": [
      "show_id          0\n",
      "type             0\n",
      "title            0\n",
      "director         0\n",
      "cast             0\n",
      "country          0\n",
      "date_added      10\n",
      "release_year     0\n",
      "rating           0\n",
      "duration         0\n",
      "listed_in        0\n",
      "description      0\n",
      "dtype: int64\n"
     ]
    }
   ],
   "source": [
    "print(netflix_cleaned.isnull().sum())"
   ]
  },
  {
   "cell_type": "code",
   "execution_count": 1023,
   "id": "03b81707-d359-41dd-9e14-f8c0ad54127b",
   "metadata": {
    "scrolled": true
   },
   "outputs": [
    {
     "name": "stdout",
     "output_type": "stream",
     "text": [
      "show_id            0\n",
      "type               0\n",
      "title              0\n",
      "director           0\n",
      "cast               0\n",
      "country            0\n",
      "date_added      9191\n",
      "release_year       0\n",
      "rating             0\n",
      "duration           0\n",
      "listed_in          0\n",
      "description        0\n",
      "dtype: int64\n"
     ]
    }
   ],
   "source": [
    "print(amazon_cleaned.isnull().sum())"
   ]
  },
  {
   "cell_type": "markdown",
   "id": "f4d3fc09-fd3e-4328-820f-f19d5325d7da",
   "metadata": {},
   "source": [
    "### Justification:\n",
    "\n",
    "Filling missing values in columns like `director`, `cast`, and `country` with \"Unknown\" ensures that no data is lost while keeping the dataset consistent. This approach allows us to still include these rows in the analysis, even if some information is missing. For columns with very few missing values like `rating` and `duration`, dropping those rows is a practical choice since it doesn’t significantly affect the overall dataset. This way, we maintain as much data as possible while ensuring it's clean and ready for analysis.\n"
   ]
  },
  {
   "cell_type": "markdown",
   "id": "eb370bc9-43a0-484e-b254-776e59a509d1",
   "metadata": {},
   "source": [
    "#### **Quality Issue 2: Incorrect Data Types**\n",
    "\n",
    "The `date_added` column in both datasets is stored as a string instead of a proper datetime format. This makes it difficult to perform time-based analyses like filtering, sorting, or identifying trends over time. Converting this column to a datetime format will allow for efficient and accurate analysis."
   ]
  },
  {
   "cell_type": "markdown",
   "id": "f9dda3e6-0797-4962-8b32-1d26a0b69b15",
   "metadata": {},
   "source": [
    "**Cleaning Strategy**:  \n",
    "Convert the `date_added` column in both datasets to a datetime format. Any invalid or missing values will be handled by converting them to `NaT` (Not a Timestamp), which is pandas' placeholder for missing datetime data.\n"
   ]
  },
  {
   "cell_type": "code",
   "execution_count": 1027,
   "id": "ed0d1f03-7bb9-43c3-af4f-7e30e2820f24",
   "metadata": {},
   "outputs": [],
   "source": [
    "netflix_cleaned['date_added'] = pd.to_datetime(netflix_cleaned['date_added'], errors='coerce')\n",
    "amazon_cleaned['date_added'] = pd.to_datetime(amazon_cleaned['date_added'], errors='coerce')"
   ]
  },
  {
   "cell_type": "code",
   "execution_count": 1028,
   "id": "f51e167a-0022-4e12-9fc9-b9e1797c4608",
   "metadata": {},
   "outputs": [
    {
     "name": "stdout",
     "output_type": "stream",
     "text": [
      "datetime64[ns]\n"
     ]
    }
   ],
   "source": [
    "print(netflix_cleaned['date_added'].dtype)"
   ]
  },
  {
   "cell_type": "code",
   "execution_count": 1029,
   "id": "2737f97d-54ba-4b94-94b2-49b7bab2a29e",
   "metadata": {},
   "outputs": [
    {
     "name": "stdout",
     "output_type": "stream",
     "text": [
      "datetime64[ns]\n"
     ]
    }
   ],
   "source": [
    "print(amazon_cleaned['date_added'].dtype)"
   ]
  },
  {
   "cell_type": "markdown",
   "id": "7dc3735e-42ab-4b83-b2d8-055b0287525c",
   "metadata": {},
   "source": [
    "### Justification\n",
    "\n",
    "Converting the `date_added` column to a proper datetime format is important for any analysis involving dates. It makes it easier to sort, filter, or analyze trends over time. Handling missing or invalid values as `NaT` ensures the data stays accurate without adding incorrect or made-up dates. This step improves the usability of the dataset for time-based analysis."
   ]
  },
  {
   "cell_type": "markdown",
   "id": "258a70e1-2c1e-4848-8c8b-82210e1d97ff",
   "metadata": {},
   "source": [
    "#### **Tidiness Issue 1: Separate Datasets**\n",
    "\n",
    "The Netflix and Amazon Prime datasets are stored separately, even though they share the same structure and purpose. Keeping these datasets separate complicates comparative analysis and adds unnecessary steps for combining or comparing content between platforms. Combining them into one dataset simplifies the process and makes analysis more efficient."
   ]
  },
  {
   "cell_type": "markdown",
   "id": "2f265d0e-7a07-40f2-b1ff-753f1529840f",
   "metadata": {},
   "source": [
    "\n",
    "**Cleaning Strategy**:  \n",
    "Add a new column, `platform`, to each dataset to indicate the source (Netflix or Amazon Prime). Then, merge the two datasets into a single DataFrame using `pandas.concat()`."
   ]
  },
  {
   "cell_type": "code",
   "execution_count": 1033,
   "id": "8fcd533d-4210-40b7-a837-38ef718bd965",
   "metadata": {},
   "outputs": [],
   "source": [
    "# Add a new column to indicate the platform\n",
    "netflix_cleaned['platform'] = 'Netflix'\n",
    "amazon_cleaned['platform'] = 'Amazon Prime'"
   ]
  },
  {
   "cell_type": "code",
   "execution_count": 1034,
   "id": "e36f3bcd-20f9-4fd4-9cfe-b95a6a0414b0",
   "metadata": {},
   "outputs": [],
   "source": [
    "# Combine the datasets into one\n",
    "combined_data = pd.concat([netflix_cleaned, amazon_cleaned], ignore_index=True)"
   ]
  },
  {
   "cell_type": "code",
   "execution_count": 1035,
   "id": "127f8cc7-ab32-4377-96b7-74abf64ab55a",
   "metadata": {},
   "outputs": [
    {
     "name": "stdout",
     "output_type": "stream",
     "text": [
      "platform\n",
      "Amazon Prime    9331\n",
      "Netflix         8800\n",
      "Name: count, dtype: int64\n"
     ]
    }
   ],
   "source": [
    "# Check the structure of the combined dataset\n",
    "print(combined_data['platform'].value_counts())  # Verify platform column"
   ]
  },
  {
   "cell_type": "code",
   "execution_count": 1036,
   "id": "9144e03e-608c-4095-af8f-27445b0c8185",
   "metadata": {},
   "outputs": [
    {
     "name": "stdout",
     "output_type": "stream",
     "text": [
      "(18131, 13)\n"
     ]
    }
   ],
   "source": [
    "print(combined_data.shape)  # Confirm the total number of rows"
   ]
  },
  {
   "cell_type": "markdown",
   "id": "6e1c23d6-54ca-4db0-8d26-2058bb70c207",
   "metadata": {},
   "source": [
    "### Justification\n",
    "\n",
    "Combining the Netflix and Amazon Prime datasets into one makes it easier to analyze and compare content across the two platforms. Adding a `platform` column ensures we can still distinguish which content comes from each platform. This simplifies the analysis process and avoids unnecessary steps when working with the data.\n"
   ]
  },
  {
   "cell_type": "markdown",
   "id": "62c61eb0-df3a-44b2-819f-02a0e78fbed9",
   "metadata": {},
   "source": [
    "#### **Tidiness Issue 2: Multiple Values in `listed_in` Column**\n",
    "\n",
    "The `listed_in` column in both datasets contains multiple genres/categories stored as a single string separated by commas. This format makes it difficult to analyze individual genres, such as identifying the most popular genres or filtering content by a specific genre. Splitting this column into multiple rows ensures a more detailed and accurate analysis of genres."
   ]
  },
  {
   "cell_type": "markdown",
   "id": "3311686a-74cf-4de4-bf5a-aa810f443eb3",
   "metadata": {},
   "source": [
    "**Cleaning Strategy**:  \n",
    "Split the `listed_in` column into multiple rows for each genre using `pandas.explode()`. This creates a separate row for each genre while retaining all other associated data."
   ]
  },
  {
   "cell_type": "code",
   "execution_count": 1040,
   "id": "5eea4d79-4431-43f3-8171-c22224cd8276",
   "metadata": {},
   "outputs": [],
   "source": [
    "# Split the 'listed_in' column into a list and then explode it into separate rows\n",
    "combined_data['listed_in'] = combined_data['listed_in'].str.split(', ')\n",
    "combined_data = combined_data.explode('listed_in')"
   ]
  },
  {
   "cell_type": "code",
   "execution_count": 1041,
   "id": "653b64e9-7227-4505-bf6c-0634f8195ba5",
   "metadata": {},
   "outputs": [
    {
     "name": "stdout",
     "output_type": "stream",
     "text": [
      "                   title               listed_in\n",
      "0   Dick Johnson Is Dead           Documentaries\n",
      "1          Blood & Water  International TV Shows\n",
      "1          Blood & Water               TV Dramas\n",
      "1          Blood & Water            TV Mysteries\n",
      "2              Ganglands          Crime TV Shows\n",
      "2              Ganglands  International TV Shows\n",
      "2              Ganglands   TV Action & Adventure\n",
      "3  Jailbirds New Orleans              Docuseries\n",
      "3  Jailbirds New Orleans              Reality TV\n",
      "4           Kota Factory  International TV Shows\n"
     ]
    }
   ],
   "source": [
    "# Check the first few rows to confirm the change\n",
    "print(combined_data[['title', 'listed_in']].head(10))  # Display the title and genre columns"
   ]
  },
  {
   "cell_type": "markdown",
   "id": "f5ab8138-1582-41cc-98b3-0166a46698fa",
   "metadata": {},
   "source": [
    "### Justification\n",
    "\n",
    "Splitting the `listed_in` column into separate rows makes it much easier to analyze individual genres. By having one genre per row, we can accurately count, filter, or identify trends for specific genres across the datasets. This approach ensures the data is structured in a way that supports detailed and meaningful genre-based analysis.\n"
   ]
  },
  {
   "cell_type": "markdown",
   "id": "fa2fbb8f-7a86-4779-b1ac-2459408dc49e",
   "metadata": {},
   "source": [
    "### **Remove Unnecessary Variables and Combine Datasets**\n",
    "\n",
    "After cleaning the datasets, unnecessary variables are removed, and the Netflix and Amazon Prime datasets are combined into one for easier analysis. This step ensures that the final dataset is concise and focused on the most relevant columns for analysis."
   ]
  },
  {
   "cell_type": "markdown",
   "id": "45af86cb-fcdd-4c06-9354-68e05a5c8617",
   "metadata": {},
   "source": [
    "**Cleaning Strategy**:  \n",
    "1. Remove columns that are not needed for the analysis, such as `description` and `show_id`, since they do not contribute directly to the research questions.\n",
    "2. Retain key variables such as `title`, `type`, `listed_in`, `release_year`, and `platform` for further analysis.\n",
    "3. Combine the cleaned Netflix and Amazon Prime datasets into a single DataFrame, as already done in **Tidiness Issue 1**."
   ]
  },
  {
   "cell_type": "code",
   "execution_count": 1045,
   "id": "54657849-2144-40e1-abdd-8fa509d967e4",
   "metadata": {},
   "outputs": [],
   "source": [
    "# Retain only the relevant columns\n",
    "combined_data = combined_data[['title', 'type', 'listed_in', 'release_year', 'platform']]"
   ]
  },
  {
   "cell_type": "code",
   "execution_count": 1046,
   "id": "5b09cc4a-5450-44f7-a0ae-578628c9cc4b",
   "metadata": {},
   "outputs": [
    {
     "name": "stdout",
     "output_type": "stream",
     "text": [
      "Index(['title', 'type', 'listed_in', 'release_year', 'platform'], dtype='object')\n"
     ]
    }
   ],
   "source": [
    "# Check the structure of the final dataset\n",
    "print(combined_data.columns)  # Confirm selected columns"
   ]
  },
  {
   "cell_type": "code",
   "execution_count": 1047,
   "id": "b93ec1f7-b588-4789-9872-b1f9f837bd10",
   "metadata": {},
   "outputs": [
    {
     "name": "stdout",
     "output_type": "stream",
     "text": [
      "platform\n",
      "Netflix         19314\n",
      "Amazon Prime    17559\n",
      "Name: count, dtype: int64\n"
     ]
    }
   ],
   "source": [
    "print(combined_data['platform'].value_counts())  # Verify the row count for each platform"
   ]
  },
  {
   "cell_type": "code",
   "execution_count": 1048,
   "id": "ea76270e-d3b9-4591-b2d2-66a8c25f638b",
   "metadata": {},
   "outputs": [
    {
     "name": "stdout",
     "output_type": "stream",
     "text": [
      "                  title     type               listed_in  release_year  \\\n",
      "0  Dick Johnson Is Dead    Movie           Documentaries          2020   \n",
      "1         Blood & Water  TV Show  International TV Shows          2021   \n",
      "1         Blood & Water  TV Show               TV Dramas          2021   \n",
      "1         Blood & Water  TV Show            TV Mysteries          2021   \n",
      "2             Ganglands  TV Show          Crime TV Shows          2021   \n",
      "\n",
      "  platform  \n",
      "0  Netflix  \n",
      "1  Netflix  \n",
      "1  Netflix  \n",
      "1  Netflix  \n",
      "2  Netflix  \n"
     ]
    }
   ],
   "source": [
    "print(combined_data.head())  # Display the first few rows"
   ]
  },
  {
   "cell_type": "markdown",
   "id": "47547351-c990-4ced-8250-20284405ec43",
   "metadata": {},
   "source": [
    "### 4. Update Your Data Store\n",
    "\n",
    "Both the raw and cleaned datasets are saved separately to ensure version control and traceability. Informative file names are used to clearly differentiate between raw and processed data."
   ]
  },
  {
   "cell_type": "markdown",
   "id": "3a88aae4-1f1c-42a0-a559-6f11891395b5",
   "metadata": {},
   "source": [
    "**Saving Data**:  \n",
    "The raw datasets are saved in their original state, and the cleaned combined dataset is saved after all transformations have been applied."
   ]
  },
  {
   "cell_type": "code",
   "execution_count": 1051,
   "id": "32e5d72b-793c-470d-9a84-6534920dcf4c",
   "metadata": {},
   "outputs": [],
   "source": [
    "# Save raw datasets\n",
    "netflix_data.to_csv(\"raw_netflix_data.csv\", index=False)\n",
    "amazon_data.to_csv(\"raw_amazon_data.csv\", index=False)"
   ]
  },
  {
   "cell_type": "code",
   "execution_count": 1052,
   "id": "36deda55-4e12-449e-a5e7-8112f880a00f",
   "metadata": {},
   "outputs": [],
   "source": [
    "# Save cleaned datasets\n",
    "combined_data.to_csv(\"cleaned_combined_data.csv\", index=False)"
   ]
  },
  {
   "cell_type": "markdown",
   "id": "265d75bf-644b-43b7-a3b0-fb5481c99104",
   "metadata": {},
   "source": [
    "**Best Practices Followed**:\n",
    "\n",
    "- Maintain separate files for raw and cleaned data to ensure reproducibility and traceability.\n",
    "- Use clear and descriptive file names to easily differentiate between raw and processed datasets.\n",
    "- Store data in a consistent format (CSV) for accessibility and compatibility with various tools.\n"
   ]
  },
  {
   "cell_type": "markdown",
   "id": "17e26875-b320-478b-b1b7-b0f5129c9f68",
   "metadata": {},
   "source": [
    "### 5. Answer the Research Question\n",
    "\n",
    "#### 5.1: Define and Answer the Research Question\n",
    "\n",
    "**Research Question**:  \n",
    "What are the differences in genre distribution between Netflix and Amazon Prime, and which platform has more content in each genre?"
   ]
  },
  {
   "cell_type": "markdown",
   "id": "600f3a82-ea99-4d45-98f8-2cdd099cdec4",
   "metadata": {},
   "source": [
    "**# Visual 1**: Top 10 Genre Distribution by Platform  \n",
    "This plot compares the top 10 most popular genres available on Netflix and Amazon Prime, showing how many movies and TV shows are available in each genre."
   ]
  },
  {
   "cell_type": "code",
   "execution_count": 1056,
   "id": "7bf7e52b-2f3f-4827-88f8-5f88dec31954",
   "metadata": {},
   "outputs": [],
   "source": [
    "# Ensure genres are split correctly (exploded into separate rows)\n",
    "combined_data['listed_in'] = combined_data['listed_in'].str.split(', ')  # Split genres\n",
    "combined_data = combined_data.explode('listed_in')  # Split into multiple rows\n",
    "\n",
    "# Reset the index to avoid duplicate index issues\n",
    "combined_data.reset_index(drop=True, inplace=True)"
   ]
  },
  {
   "cell_type": "code",
   "execution_count": 1057,
   "id": "e6069759-7679-4960-a21c-61c6b78c614b",
   "metadata": {},
   "outputs": [
    {
     "data": {
      "image/png": "[encoded data removed]",
      "text/plain": [
       "<Figure size 1200x800 with 1 Axes>"
      ]
     },
     "metadata": {},
     "output_type": "display_data"
    }
   ],
   "source": [
    "# Create a countplot to compare the genre distribution on Netflix vs. Amazon Prime\n",
    "plt.figure(figsize=(12,8))\n",
    "sns.countplot(data=combined_data, x='listed_in', hue='platform', order=combined_data['listed_in'].value_counts().index[:10])\n",
    "plt.xticks(rotation=45, ha='right')\n",
    "plt.title('Top 10 Genre Distribution on Netflix vs. Amazon Prime')\n",
    "plt.xlabel('Genres')\n",
    "plt.ylabel('Content Count')\n",
    "plt.tight_layout()  # Adjust layout for better spacing\n",
    "plt.show()"
   ]
  },
  {
   "cell_type": "markdown",
   "id": "0e07bbff-142a-442c-8ff4-eaefe2866200",
   "metadata": {},
   "source": [
    "*Answer to Research Question:* This plot clearly shows the top 10 genres on both platforms, allowing us to compare the genre distribution and identify which genres are most prevalent on Netflix and Amazon Prime."
   ]
  },
  {
   "cell_type": "markdown",
   "id": "81704454-229b-47b1-9b21-e0ad43151cd0",
   "metadata": {},
   "source": [
    "**# Visual 2** : Genre Popularity on Each Platform\n",
    "This visualization compares the most popular genres on Netflix and Amazon Prime by showing the content count for each platform, broken down by genre."
   ]
  },
  {
   "cell_type": "code",
   "execution_count": 1060,
   "id": "975d254a-20f8-4ba4-be04-3f066ec0778d",
   "metadata": {},
   "outputs": [
    {
     "data": {
      "image/png": "[encoded data removed]",
      "text/plain": [
       "<Figure size 1200x800 with 1 Axes>"
      ]
     },
     "metadata": {},
     "output_type": "display_data"
    }
   ],
   "source": [
    "plt.figure(figsize=(12,8))\n",
    "sns.countplot(data=combined_data, x='listed_in', hue='platform', palette='Set2', order=combined_data['listed_in'].value_counts().index[:15])  # Top 15 genres\n",
    "plt.xticks(rotation=90, ha='right')\n",
    "plt.title('Genre Comparison between Netflix and Amazon Prime')\n",
    "plt.xlabel('Genres')\n",
    "plt.ylabel('Content Count')\n",
    "plt.tight_layout()\n",
    "plt.show()"
   ]
  },
  {
   "cell_type": "markdown",
   "id": "b57652b7-11a9-47fa-89cd-fbe877899f4f",
   "metadata": {},
   "source": [
    "*Answer to Research Question :* This bar plot gives a deeper view of the distribution of content in each genre, highlighting which platform offers more content for specific genres."
   ]
  },
  {
   "cell_type": "markdown",
   "id": "83a75df3-47f6-41fb-82f1-2b5486a72065",
   "metadata": {},
   "source": [
    "**# Visual 3**: Distribution of Content Type (Movies vs. TV Shows)  \r\n",
    "This stacked bar plot compares the distribution of movies and TV shows available on Netflix and Amazon Prime. It helps us understand the proportion of content types (Movies vs. TV Shows) on each platform plot\r\n",
    "plt.show()\r\n"
   ]
  },
  {
   "cell_type": "code",
   "execution_count": 1063,
   "id": "18d1315d-c143-49fd-acf6-ec12cb013497",
   "metadata": {},
   "outputs": [
    {
     "data": {
      "text/plain": [
       "<Figure size 800x600 with 0 Axes>"
      ]
     },
     "metadata": {},
     "output_type": "display_data"
    },
    {
     "data": {
      "image/png": "[encoded data removed]",
      "text/plain": [
       "<Figure size 640x480 with 1 Axes>"
      ]
     },
     "metadata": {},
     "output_type": "display_data"
    }
   ],
   "source": [
    "# Count the number of movies and TV shows per platform\n",
    "content_type_distribution = combined_data.groupby(['platform', 'type']).size().unstack().fillna(0)\n",
    "\n",
    "# Plotting the distribution of content types (movies vs. TV shows) for each platform\n",
    "plt.figure(figsize=(8,6))\n",
    "content_type_distribution.plot(kind='bar', stacked=True, color=['#69b3a2', '#404080'])\n",
    "plt.title('Distribution of Content Type (Movies vs. TV Shows) on Netflix and Amazon Prime')\n",
    "plt.xlabel('Platform')\n",
    "plt.ylabel('Content Count')\n",
    "plt.xticks(rotation=0)\n",
    "plt.legend(title='Content Type', labels=['Movies', 'TV Shows'])\n",
    "plt.tight_layout()  # Adjust layout for better spacing\n",
    "# Explicitly display the plot\n",
    "plt.show()\n"
   ]
  },
  {
   "cell_type": "markdown",
   "id": "729e6113-fa2b-40ed-9229-b8c44b8f9350",
   "metadata": {},
   "source": [
    "*Answer to Research Question :* This plot shows the breakdown of Movies vs. TV Shows on both Netflix and Amazon Prime, highlighting which type of content is more prevalent on each platform."
   ]
  },
  {
   "cell_type": "markdown",
   "id": "c05041bd-735a-4bea-97e7-f47c3b090fa4",
   "metadata": {},
   "source": [
    "**# Visual 4**: Release Year Distribution by Platform  \n",
    "This visualization compares the release year distribution for Netflix and Amazon Prime content, helping us understand the evolution of content over time on each platform."
   ]
  },
  {
   "cell_type": "code",
   "execution_count": 1066,
   "id": "ff6b8bf7-f5de-43e1-a074-54423f6cd330",
   "metadata": {},
   "outputs": [
    {
     "data": {
      "image/png": "[encoded data removed]",
      "text/plain": [
       "<Figure size 1200x800 with 1 Axes>"
      ]
     },
     "metadata": {},
     "output_type": "display_data"
    }
   ],
   "source": [
    "plt.figure(figsize=(12,8))\n",
    "\n",
    "sns.countplot(data=combined_data[combined_data['release_year'] >= 2000], x='release_year', hue='platform', palette='muted')\n",
    "\n",
    "plt.title('Release Year Distribution on Netflix vs. Amazon Prime')\n",
    "plt.xlabel('Year of Release')\n",
    "plt.ylabel('Content Count')\n",
    "\n",
    "# Improve x-axis labels for readability\n",
    "plt.xticks(rotation=45, ha='right', fontsize=10)\n",
    "plt.tight_layout()  # Adjust layout for better spacing\n",
    "plt.show()\n"
   ]
  },
  {
   "cell_type": "markdown",
   "id": "4417a55f-f37c-4c9a-9b34-8584e2bed722",
   "metadata": {},
   "source": [
    "*Answer to Research Question :* This plot shows how the content libraries have grown over time on both platforms. It helps to identify trends in content releases, such as when platforms began to add more content or focused on specific genres."
   ]
  },
  {
   "cell_type": "markdown",
   "id": "47bd913c-3ee5-448e-ad3a-149c75df34c2",
   "metadata": {},
   "source": [
    "### 5.2: Reflection\n",
    "\n",
    "If I had more time to complete the project, I would focus on addressing missing data in columns like `director` and `cast`, as this could affect the accuracy of the analysis. I would also explore other research questions, such as the relationship between content type (movies vs. TV shows) and user ratings, or how the release year of content affects its popularity on each platform. There’s potential to dive deeper into these areas to get more insights from the data.\n"
   ]
  }
 ],
 "metadata": {
  "kernelspec": {
   "display_name": "Python 3 (ipykernel)",
   "language": "python",
   "name": "python3"
  },
  "language_info": {
   "codemirror_mode": {
    "name": "ipython",
    "version": 3
   },
   "file_extension": ".py",
   "mimetype": "text/x-python",
   "name": "python",
   "nbconvert_exporter": "python",
   "pygments_lexer": "ipython3",
   "version": "3.12.4"
  }
 },
 "nbformat": 4,
 "nbformat_minor": 5
}
